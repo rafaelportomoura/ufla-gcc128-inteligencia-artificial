{
  "nbformat": 4,
  "nbformat_minor": 0,
  "metadata": {
    "colab": {
      "provenance": [],
      "authorship_tag": "ABX9TyPqrMQp5xC29DlRSIKCiY1Y",
      "include_colab_link": true
    },
    "kernelspec": {
      "name": "python3",
      "display_name": "Python 3"
    },
    "language_info": {
      "name": "python"
    }
  },
  "cells": [
    {
      "cell_type": "markdown",
      "metadata": {
        "id": "view-in-github",
        "colab_type": "text"
      },
      "source": [
        "<a href=\"https://colab.research.google.com/github/rafaelportomoura/ufla-gcc128-inteligencia-artificial/blob/main/K_Means_Rafae_Porto_Vieira_de_Moura.ipynb\" target=\"_parent\"><img src=\"https://colab.research.google.com/assets/colab-badge.svg\" alt=\"Open In Colab\"/></a>"
      ]
    },
    {
      "cell_type": "markdown",
      "source": [
        "# Trabalho K-means\n",
        "\n",
        "Aluno: Rafael Porto Vieira de Moura  \n",
        "Matrícula: 201820274"
      ],
      "metadata": {
        "id": "QZ03FuOW8epW"
      }
    },
    {
      "cell_type": "markdown",
      "source": [
        "## Background\n"
      ],
      "metadata": {
        "id": "sTKp3g0-8nbC"
      }
    },
    {
      "cell_type": "markdown",
      "source": [
        "### K-Means\n",
        "\n",
        "O algoritmo K-Means é uma técnica de agrupamento de dados que visa dividir um conjunto de dados em k grupos, onde k é um número pré-definido, com base na similaridade dos seus elementos. O algoritmo funciona em etapas, onde inicialmente são escolhidos k centros de gravidade aleatórios, que serão usados como referência para os demais elementos. Em seguida, cada elemento é associado ao centro de gravidade mais próximo, criando assim os primeiros k grupos. Depois, o centro de gravidade de cada um desses grupos é recalculado e o processo é repetido até que a convergência seja alcançada. O resultado final é um conjunto de k grupos, onde cada grupo representa uma clusterização dos dados, com base nas suas características e na distância entre eles.\n",
        "\n",
        "A distância utilizada como métrica é a distância euclidiana, representada pela equação abaixo, onde $p$ e $p'$ são dois objetoros representados por vetores no espaço e n é a quantidade de dimensões.\n",
        "\n",
        "\n",
        "$$ d(p,q) = \\sqrt{\\sum_{i=1}^{n}{(p - q)^2}} $$"
      ],
      "metadata": {
        "id": "lA40lnhD8syT"
      }
    },
    {
      "cell_type": "markdown",
      "source": [
        "### Data Set Iris\n",
        "\n",
        "O conjunto de dados Iris é um dos conjuntos mais icônicos e amplamente utilizados em aprendizado de máquina e estatísticas. Ele contém informações sobre três espécies diferentes de plantas de íris: Setosa, Versicolor e Virginica. Para cada uma das 150 amostras de íris, são registradas quatro características: comprimento e largura das sépalas e pétalas. Esse conjunto de dados é frequentemente utilizado para tarefas de classificação e clustering, bem como para ilustrar conceitos fundamentais em análise de dados e visualização. Graças à sua simplicidade e clareza, o conjunto de dados Iris é uma escolha popular para iniciantes em aprendizado de máquina, bem como para pesquisadores que desejam explorar algoritmos e técnicas de análise de dados. O conjunto de dados pode ser acessado no repositório UCI Machine Learning e é uma valiosa ferramenta para estudos e experimentos na área de ciência de dados.\n",
        "\n",
        "[Página do dataset](https://archive.ics.uci.edu/dataset/53/iris)\n"
      ],
      "metadata": {
        "id": "BI0ZwyQA-JPs"
      }
    },
    {
      "cell_type": "markdown",
      "source": [
        "## Código\n",
        "\n"
      ],
      "metadata": {
        "id": "vcGeGiTw8aA3"
      }
    },
    {
      "cell_type": "markdown",
      "source": [
        "### Cabeçalho"
      ],
      "metadata": {
        "id": "SBJmJZxG-Qdp"
      }
    },
    {
      "cell_type": "code",
      "source": [
        "from sklearn.datasets import  load_iris\n",
        "import numpy as np\n",
        "import math"
      ],
      "metadata": {
        "id": "YuI5tJ2N-iX1"
      },
      "execution_count": 7,
      "outputs": []
    },
    {
      "cell_type": "markdown",
      "source": [
        "Logger"
      ],
      "metadata": {
        "id": "lBlQ0yyF-N08"
      }
    },
    {
      "cell_type": "code",
      "execution_count": 20,
      "metadata": {
        "id": "6b5hgOwr79cF"
      },
      "outputs": [],
      "source": [
        "class Logger:\n",
        "    def __init__(self,log_type: str):\n",
        "        self.log_type = log_type if log_type else 'standard'\n",
        "        self.__error__ = log_type in ['debug','info','standard', 'error']\n",
        "        self.__info__ = log_type in ['debug','info','standard']\n",
        "        self.__debug_logs__ = log_type in ['debug','standard']\n",
        "        self.__log__ = log_type in ['debug','info','standard','log','error']\n",
        "\n",
        "    def debug(self,*args):\n",
        "        if(self.__debug_logs__):\n",
        "            print(*args)\n",
        "    def info(self,*args):\n",
        "        if(self.__info__):\n",
        "            print(*args)\n",
        "    def error(self,*args):\n",
        "        if(self.__error__):\n",
        "            print(*args)\n",
        "    def log(self,*args):\n",
        "        if(self.__log__):\n",
        "            print(*args)\n",
        "\n",
        "logger = Logger('log')"
      ]
    },
    {
      "cell_type": "markdown",
      "source": [
        "### K-Means"
      ],
      "metadata": {
        "id": "YAN_EXJv_YP3"
      }
    },
    {
      "cell_type": "markdown",
      "source": [
        "Distância euclidiana"
      ],
      "metadata": {
        "id": "05G3rJ9F_bep"
      }
    },
    {
      "cell_type": "code",
      "source": [
        "def distancia_euclidiana(p: list,q: list) -> float:\n",
        "    subtraidos = np.subtract(p,q)\n",
        "    elevado = np.power(subtraidos,2)\n",
        "    somatorio = np.sum(elevado)\n",
        "    distancia = math.sqrt(somatorio)\n",
        "    return distancia"
      ],
      "metadata": {
        "id": "_IUgqKfp_bCO"
      },
      "execution_count": 6,
      "outputs": []
    },
    {
      "cell_type": "markdown",
      "source": [
        "Orquestrador\n"
      ],
      "metadata": {
        "id": "4QNwC2VRA3Em"
      }
    },
    {
      "cell_type": "markdown",
      "source": [
        "Rodar k-means\n"
      ],
      "metadata": {
        "id": "RjI8mbio_zId"
      }
    },
    {
      "cell_type": "code",
      "source": [
        "def rodar_k_means(valores: list, grupos: int):\n",
        "    logger.debug(grupos, valores)"
      ],
      "metadata": {
        "id": "iwXEVNUw_2Gp"
      },
      "execution_count": 19,
      "outputs": []
    },
    {
      "cell_type": "markdown",
      "source": [
        "### Dataset Iris\n"
      ],
      "metadata": {
        "id": "VtQVAMC3-qnB"
      }
    },
    {
      "cell_type": "markdown",
      "source": [
        "Carregamento do dataset"
      ],
      "metadata": {
        "id": "NtpxjQFM_EMJ"
      }
    },
    {
      "cell_type": "code",
      "source": [
        "IRIS_VALORES, IRIS_CLASSES = load_iris(return_X_y=True)"
      ],
      "metadata": {
        "id": "HM1WwUZu-skm"
      },
      "execution_count": 2,
      "outputs": []
    },
    {
      "cell_type": "markdown",
      "source": [
        "Rodar K-means com Iris"
      ],
      "metadata": {
        "id": "Vv2l1eQ7_OHj"
      }
    },
    {
      "cell_type": "code",
      "source": [
        "rodar_k_means(IRIS_VALORES,3)"
      ],
      "metadata": {
        "id": "hraXBdF1_SSk"
      },
      "execution_count": 21,
      "outputs": []
    }
  ]
}
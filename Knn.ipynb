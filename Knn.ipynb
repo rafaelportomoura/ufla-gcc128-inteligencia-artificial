{
  "nbformat": 4,
  "nbformat_minor": 0,
  "metadata": {
    "colab": {
      "provenance": [],
      "collapsed_sections": [
        "cECoHX-T5S8M"
      ],
      "mount_file_id": "1r3VipcFNqx5D9ibhTCLJYOgbw_WRK7ow",
      "authorship_tag": "ABX9TyOSjWRqAuXzQ0KOdvvxlZ2K"
    },
    "kernelspec": {
      "name": "python3",
      "display_name": "Python 3"
    },
    "language_info": {
      "name": "python"
    }
  },
  "cells": [
    {
      "cell_type": "markdown",
      "source": [
        "# Trabalho – Implementação de KNN - Método de Classificação para uma data set ( Iris ou Spam)"
      ],
      "metadata": {
        "id": "H35m06ukyqUf"
      }
    },
    {
      "cell_type": "markdown",
      "source": [
        "\n",
        "## Background"
      ],
      "metadata": {
        "id": "YqzmmJat5OJX"
      }
    },
    {
      "cell_type": "markdown",
      "source": [
        "### KNN\n",
        "\n",
        "O algoritmo K-Nearest Neighbors (KNN) é um método de aprendizado de máquina supervisionado utilizado para classificação e regressão. Ele opera com base na ideia de que itens semelhantes tendem a estar próximos uns dos outros. Para classificar um novo ponto de dados, o KNN calcula a distância entre esse ponto e os pontos de treinamento conhecidos e seleciona os K vizinhos mais próximos.\n",
        "\n",
        "A classe ou valor alvo do novo ponto é determinado pela maioria das classes (no caso de classificação) ou pela média dos valores (no caso de regressão) dos K vizinhos mais próximos. O valor de K, que representa o número de vizinhos considerados, é um hiperparâmetro que pode ser ajustado para otimizar o desempenho do modelo.\n",
        "\n",
        "A distância utilizada como métrica é a distância euclidiana, representada pela equação abaixo, onde $p$ e $p'$ são dois objetoros representados por vetores no espaço e n é a quantidade de dimensões.\n",
        "\n",
        "\n",
        "$$ d(p,q) = \\sqrt{\\sum_{i=1}^{n}{(p - q)^2}} $$"
      ],
      "metadata": {
        "id": "Ym7VVy4-5K83"
      }
    },
    {
      "cell_type": "markdown",
      "source": [
        "### Data Set Iris\n",
        "\n",
        "O conjunto de dados Iris é um dos conjuntos mais icônicos e amplamente utilizados em aprendizado de máquina e estatísticas. Ele contém informações sobre três espécies diferentes de plantas de íris: Setosa, Versicolor e Virginica. Para cada uma das 150 amostras de íris, são registradas quatro características: comprimento e largura das sépalas e pétalas. Esse conjunto de dados é frequentemente utilizado para tarefas de classificação e clustering, bem como para ilustrar conceitos fundamentais em análise de dados e visualização. Graças à sua simplicidade e clareza, o conjunto de dados Iris é uma escolha popular para iniciantes em aprendizado de máquina, bem como para pesquisadores que desejam explorar algoritmos e técnicas de análise de dados. O conjunto de dados pode ser acessado no repositório UCI Machine Learning e é uma valiosa ferramenta para estudos e experimentos na área de ciência de dados.\n",
        "\n",
        "[Página do dataset](https://archive.ics.uci.edu/dataset/53/iris)"
      ],
      "metadata": {
        "id": "GZzI2ntM5XUl"
      }
    },
    {
      "cell_type": "markdown",
      "source": [
        "## Código"
      ],
      "metadata": {
        "id": "PFFRPuZG5Q3h"
      }
    },
    {
      "cell_type": "markdown",
      "source": [
        "#### Importação das bibliotecas utilizadas"
      ],
      "metadata": {
        "id": "cECoHX-T5S8M"
      }
    },
    {
      "cell_type": "code",
      "source": [
        "pip install scikit-learn"
      ],
      "metadata": {
        "colab": {
          "base_uri": "https://localhost:8080/"
        },
        "id": "S4IMjy7rNjN5",
        "outputId": "9960dcba-ca10-4812-d143-00691f5c2fef"
      },
      "execution_count": 68,
      "outputs": [
        {
          "output_type": "stream",
          "name": "stdout",
          "text": [
            "Requirement already satisfied: scikit-learn in /usr/local/lib/python3.10/dist-packages (1.2.2)\n",
            "Requirement already satisfied: numpy>=1.17.3 in /usr/local/lib/python3.10/dist-packages (from scikit-learn) (1.23.5)\n",
            "Requirement already satisfied: scipy>=1.3.2 in /usr/local/lib/python3.10/dist-packages (from scikit-learn) (1.11.3)\n",
            "Requirement already satisfied: joblib>=1.1.1 in /usr/local/lib/python3.10/dist-packages (from scikit-learn) (1.3.2)\n",
            "Requirement already satisfied: threadpoolctl>=2.0.0 in /usr/local/lib/python3.10/dist-packages (from scikit-learn) (3.2.0)\n"
          ]
        }
      ]
    },
    {
      "cell_type": "code",
      "source": [
        "from sklearn.datasets import  load_iris\n",
        "from sklearn.model_selection import train_test_split\n",
        "from sklearn import metrics\n",
        "import numpy as np\n",
        "import math"
      ],
      "metadata": {
        "id": "tCx-55hl4JU3"
      },
      "execution_count": 82,
      "outputs": []
    },
    {
      "cell_type": "markdown",
      "source": [
        "### Algoritmo KNN\n"
      ],
      "metadata": {
        "id": "VxmO_VSw8i_Q"
      }
    },
    {
      "cell_type": "code",
      "source": [
        "from sklearn.externals._packaging.version import Infinity\n",
        "class KNN:\n",
        "    def __init__(self,vizinhos: int):\n",
        "        self.altera_quantidade_de_vizinhos(vizinhos)\n",
        "        self.valores_de_treinamento = [[]]\n",
        "        self.classes_de_treinamento = []\n",
        "        self.dimensoes = 1\n",
        "        self.total = 0\n",
        "\n",
        "    def treinar(self, valores: np.ndarray[np.ndarray[int]], classes: np.ndarray[int]) -> None:\n",
        "        self.total, self.dimensoes = valores.shape\n",
        "        self.valores_de_treinamento = valores.copy()\n",
        "        self.classes_de_treinamento = classes.copy()\n",
        "\n",
        "    def altera_quantidade_de_vizinhos(self,vizinhos: int) -> None:\n",
        "        self.quantidade_de_vizinhos = vizinhos\n",
        "\n",
        "    def predizer(self, valores: np.ndarray[np.ndarray[int]]) -> list[int]:\n",
        "        if len(self.valores_de_treinamento) == 0:\n",
        "            raise Exception('É necessário treinar antes!')\n",
        "\n",
        "        classes_classificadas = []\n",
        "        for v in valores:\n",
        "            classe = self.__calcular__(v)\n",
        "            classes_classificadas.append(classe)\n",
        "\n",
        "        return classes_classificadas\n",
        "\n",
        "\n",
        "    def pontuar(self, valores: np.ndarray[np.ndarray[int]], classes: np.ndarray[int]) -> float:\n",
        "        if len(valores) != len(classes):\n",
        "            raise Exception('O tamanho dos valores está diferente do tamanho das classes!')\n",
        "\n",
        "        preditos = self.predizer(valores)\n",
        "        total = len(preditos)\n",
        "        corretos = len([i for i in classes if classes[i] == preditos[i]])\n",
        "\n",
        "        return corretos/total\n",
        "\n",
        "    def __moda_com_desempate__(self,vizinhos: list[list[int]]) -> int:\n",
        "        frequencia = {}\n",
        "        menor_distancia = {}\n",
        "        maior_frequencia = 0\n",
        "        for i in range(0,len(vizinhos)):\n",
        "            vizinho = vizinhos[i][0]\n",
        "            distancia = vizinhos[i][1]\n",
        "            classe = self.classes_de_treinamento[vizinho]\n",
        "            if classe not in frequencia:\n",
        "                menor_distancia[classe] = distancia\n",
        "                frequencia[classe] = 1\n",
        "            else:\n",
        "                frequencia[classe] += 1\n",
        "                if distancia < menor_distancia[classe]:\n",
        "                    menor_distancia[classe] = distancia\n",
        "\n",
        "            if frequencia[classe] > maior_frequencia:\n",
        "                maior_frequencia = frequencia[classe]\n",
        "\n",
        "        print(frequencia)\n",
        "        print(menor_distancia)\n",
        "        print(maior_frequencia)\n",
        "\n",
        "        moda = [classe for classe in frequencia if frequencia[classe] == maior_frequencia]\n",
        "\n",
        "        if len(moda) == 1:\n",
        "            return moda[0]\n",
        "        else:\n",
        "            menor_distancia_da_moda = Infinity\n",
        "            menor_classe = None\n",
        "            for classe in moda:\n",
        "                if menor_distancia[classe] < menor_distancia_da_moda:\n",
        "                    menor_distancia_da_moda = menor_distancia[classe]\n",
        "                    menor_classe = classe\n",
        "\n",
        "\n",
        "    def __calcular__(self,valor: np.ndarray[int]) -> int:\n",
        "        vizinhos = []\n",
        "        precisa_ordenar = True\n",
        "        for i in range(0, self.total):\n",
        "            treinado = self.valores_de_treinamento[i]\n",
        "            somatorio = 0\n",
        "            for dimensao in range(0,self.dimensoes):\n",
        "                somatorio += pow(valor[dimensao] - treinado[dimensao],2)\n",
        "            distancia = math.sqrt(somatorio)\n",
        "\n",
        "            if len(vizinhos) < self.quantidade_de_vizinhos:\n",
        "                vizinhos.append([i,distancia])\n",
        "            else:\n",
        "                if precisa_ordenar:\n",
        "                    vizinhos.sort(key=lambda i: i[1])\n",
        "                    precisa_ordenar = False\n",
        "                mais_distante = vizinhos[-1][1]\n",
        "                if distancia < mais_distante:\n",
        "                    vizinhos.pop()\n",
        "                    vizinhos.append([i,distancia])\n",
        "                    precisa_ordenar = True\n",
        "\n",
        "        print(vizinhos)\n",
        "        classe = self.__moda_com_desempate__(vizinhos)\n",
        "        return classe\n",
        "\n",
        "\n",
        "\n",
        ""
      ],
      "metadata": {
        "id": "nV1bCbzG8nQY"
      },
      "execution_count": 130,
      "outputs": []
    },
    {
      "cell_type": "markdown",
      "source": [
        "### Íris"
      ],
      "metadata": {
        "id": "gS78XkEoDcKh"
      }
    },
    {
      "cell_type": "markdown",
      "source": [
        "#### Carregamento do dataset"
      ],
      "metadata": {
        "id": "xoJNQcJ357jp"
      }
    },
    {
      "cell_type": "code",
      "source": [
        "VALORES, CLASSES = load_iris(return_X_y=True)"
      ],
      "metadata": {
        "id": "Of9I6QwY55Nf"
      },
      "execution_count": 50,
      "outputs": []
    },
    {
      "cell_type": "markdown",
      "source": [
        "#### Divide o dataset em treinamento e teste"
      ],
      "metadata": {
        "id": "0p9rqc4A9Pdx"
      }
    },
    {
      "cell_type": "code",
      "source": [
        "VALORES_DE_TREINAMENTO, VALORES_DE_TESTE, CLASSES_DE_TREINAMENTO, CLASSES_DE_TESTE = train_test_split(VALORES, CLASSES, test_size=0.7, random_state=3)"
      ],
      "metadata": {
        "id": "iub70quM9fUs"
      },
      "execution_count": 39,
      "outputs": []
    },
    {
      "cell_type": "markdown",
      "source": [
        "#### Número de vizinhos"
      ],
      "metadata": {
        "id": "1GEQBKjfyoFe"
      }
    },
    {
      "cell_type": "code",
      "source": [
        "VIZINHOS = 5"
      ],
      "metadata": {
        "id": "0xnXEIX28fN4"
      },
      "execution_count": 103,
      "outputs": []
    },
    {
      "cell_type": "markdown",
      "source": [
        "#### Roda KNN com Iris"
      ],
      "metadata": {
        "id": "kJuZ44web7bA"
      }
    },
    {
      "cell_type": "code",
      "source": [
        "knn = KNN(1)\n",
        "knn.treinar(VALORES_DE_TREINAMENTO, CLASSES_DE_TREINAMENTO)\n",
        "teste = 10\n",
        "print(f'teste: {CLASSES_DE_TESTE[:teste]}')\n",
        "knn.pontuar(VALORES_DE_TESTE[:teste],CLASSES_DE_TESTE[:teste])"
      ],
      "metadata": {
        "colab": {
          "base_uri": "https://localhost:8080/"
        },
        "id": "8sJyscUtDB3c",
        "outputId": "41cfaf43-4dcc-4c93-f9b4-8e78b68dd6cb"
      },
      "execution_count": 135,
      "outputs": [
        {
          "output_type": "stream",
          "name": "stdout",
          "text": [
            "teste: [0 0 0 0 0 2 1 0 2 1]\n",
            "[[33, 0.14142135623730978]]\n",
            "{0: 1}\n",
            "{0: 0.14142135623730978}\n",
            "1\n",
            "[[33, 0.24494897427831802]]\n",
            "{0: 1}\n",
            "{0: 0.24494897427831802}\n",
            "1\n",
            "[[15, 0.282842712474619]]\n",
            "{0: 1}\n",
            "{0: 0.282842712474619}\n",
            "1\n",
            "[[13, 0.3605551275463989]]\n",
            "{0: 1}\n",
            "{0: 0.3605551275463989}\n",
            "1\n",
            "[[20, 0.3605551275463992]]\n",
            "{0: 1}\n",
            "{0: 0.3605551275463992}\n",
            "1\n",
            "[[6, 0.5477225575051664]]\n",
            "{2: 1}\n",
            "{2: 0.5477225575051664}\n",
            "1\n",
            "[[29, 0.24494897427831766]]\n",
            "{1: 1}\n",
            "{1: 0.24494897427831766}\n",
            "1\n",
            "[[33, 0.264575131106459]]\n",
            "{0: 1}\n",
            "{0: 0.264575131106459}\n",
            "1\n",
            "[[8, 0.49999999999999967]]\n",
            "{2: 1}\n",
            "{2: 0.49999999999999967}\n",
            "1\n",
            "[[9, 0.42426406871192845]]\n",
            "{1: 1}\n",
            "{1: 0.42426406871192845}\n",
            "1\n"
          ]
        },
        {
          "output_type": "execute_result",
          "data": {
            "text/plain": [
              "1.0"
            ]
          },
          "metadata": {},
          "execution_count": 135
        }
      ]
    }
  ]
}
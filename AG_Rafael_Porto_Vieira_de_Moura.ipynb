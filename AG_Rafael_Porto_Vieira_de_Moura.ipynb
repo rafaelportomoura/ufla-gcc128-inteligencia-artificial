{
  "nbformat": 4,
  "nbformat_minor": 0,
  "metadata": {
    "colab": {
      "provenance": [],
      "authorship_tag": "ABX9TyNjlRoGeQZ+4Zu6Xo65/DVe",
      "include_colab_link": true
    },
    "kernelspec": {
      "name": "python3",
      "display_name": "Python 3"
    },
    "language_info": {
      "name": "python"
    }
  },
  "cells": [
    {
      "cell_type": "markdown",
      "metadata": {
        "id": "view-in-github",
        "colab_type": "text"
      },
      "source": [
        "<a href=\"https://colab.research.google.com/github/rafaelportomoura/ufla-gcc128-inteligencia-artificial/blob/main/AG_Rafael_Porto_Vieira_de_Moura.ipynb\" target=\"_parent\"><img src=\"https://colab.research.google.com/assets/colab-badge.svg\" alt=\"Open In Colab\"/></a>"
      ]
    },
    {
      "cell_type": "markdown",
      "source": [
        "- https://ashki23.github.io/markdown-latex.html\n",
        "- https://algodaily.com/lessons/introduction-to-genetic-algorithms-in-python#example"
      ],
      "metadata": {
        "id": "oDpL3HOAjTQ5"
      }
    },
    {
      "cell_type": "markdown",
      "source": [
        "Exercício de AG ( 10 pontos)\n",
        "\n",
        "O trabalho pode ser feito em dupla (Nome do arquivo : AG_nomeAluno1_NomeAluno2.zip)\n",
        "Encontrar de x para o qual a função $f(x) = x^2 - 3x + 4$, encontre o valor máximo .\n",
        "\n",
        "- Assumir que $x [-10, +10]$\n",
        "- Codificar $X$ como vetor binário\n",
        "- Criar uma população inicial com 4  indivíduos  (pode usar mais para testar até 30)\n",
        "- Aplicar Mutação com taxa de 1%\n",
        "- Aplicar Crossover com taxa de 70%\n",
        "- Usar seleção por torneio.\n",
        "- Usar 5  gerações. ( pode usar mais para testar até 20)\n",
        "\n",
        "Obs. Na implmentação utilizar os parametros ( num. de  indivíduos, num de geração, taxas de crossover e mutação)  como variáveis para ajdar no teste pra avaliar a qualidade dos resultados."
      ],
      "metadata": {
        "id": "JRRGqXN8i-hy"
      }
    },
    {
      "cell_type": "code",
      "execution_count": 81,
      "metadata": {
        "id": "jD41Bvu2i2tU"
      },
      "outputs": [],
      "source": [
        "import numpy\n",
        "\n",
        "# Parameter initialization\n",
        "genes = 5\n",
        "chromosomes = 4 # populacao inicial\n",
        "mattingPoolSize = 1\n",
        "offspringSize = chromosomes - mattingPoolSize\n",
        "crossover_point = 3\n",
        "crossover_probability = 0.7\n",
        "mutation_probability = 0.1\n",
        "lb = -10\n",
        "ub = 10\n",
        "generations = 20\n",
        "function = \"x*x - 3 * x + 4\""
      ]
    },
    {
      "cell_type": "markdown",
      "source": [
        "Helpers"
      ],
      "metadata": {
        "id": "O2JFSx9-OI3x"
      }
    },
    {
      "cell_type": "code",
      "source": [
        "def intToBin(decimal):\n",
        "    raw_bin = bin(decimal)\n",
        "    signal = raw_bin[0]\n",
        "    clean_bin = raw_bin.replace('-0','0').replace('0b','')\n",
        "\n",
        "    if (signal == '-'):\n",
        "        return f\"1{clean_bin.zfill(genes-1)}\"\n",
        "    else:\n",
        "        return clean_bin.zfill(genes)\n",
        "\n",
        "\n",
        "def binToInt(binary):\n",
        "    [sinal, *raw_bin] = binary\n",
        "    integer = int(''.join(raw_bin),2)\n",
        "    return -1 * integer if int(sinal,10) else integer\n",
        "\n",
        "def print_bin_array(name: str,binary_array: list[str]):\n",
        "    print(f\"{name}: {[binToInt(p) for p in binary_array]}#{binary_array}\")"
      ],
      "metadata": {
        "id": "5ds6_Bt9OLrn"
      },
      "execution_count": 54,
      "outputs": []
    },
    {
      "cell_type": "markdown",
      "source": [
        "Cria a população"
      ],
      "metadata": {
        "id": "N8WXoI7kvfY_"
      }
    },
    {
      "cell_type": "code",
      "source": [
        "import random\n",
        "\n",
        "population = [intToBin(random.randint(lb,ub)) for _ in range(chromosomes)]\n",
        "print(population)\n",
        "print([binToInt(p) for p in population])"
      ],
      "metadata": {
        "colab": {
          "base_uri": "https://localhost:8080/"
        },
        "id": "WNonIZhalgtF",
        "outputId": "990ae86b-56a2-4d3d-ecbb-cd67aadaad0b"
      },
      "execution_count": 40,
      "outputs": [
        {
          "output_type": "stream",
          "name": "stdout",
          "text": [
            "['10010', '00000', '00001', '00110']\n",
            "[-2, 0, 1, 6]\n"
          ]
        }
      ]
    },
    {
      "cell_type": "code",
      "source": [
        "def fitness(x):\n",
        "    if type(x) == str:\n",
        "        x = binToInt(x)\n",
        "\n",
        "    return eval(function)"
      ],
      "metadata": {
        "colab": {
          "base_uri": "https://localhost:8080/"
        },
        "id": "BewK4I76Dl2B",
        "outputId": "3ff328b7-80e5-442a-c68d-7b2a72defc59"
      },
      "execution_count": 80,
      "outputs": [
        {
          "output_type": "execute_result",
          "data": {
            "text/plain": [
              "112"
            ]
          },
          "metadata": {},
          "execution_count": 80
        }
      ]
    },
    {
      "cell_type": "markdown",
      "source": [
        "Gerações\n"
      ],
      "metadata": {
        "id": "Ge3lRIO_vrRc"
      }
    },
    {
      "cell_type": "code",
      "source": [
        "for generation in range(generations):\n",
        "    print(f\"🧬 Generation: {generation}\")\n",
        "    print_bin_array('Population', population)\n",
        "    fitness_arr = [fitness(x) for x in population]\n",
        "    print(f\"Fitness: {fitness_arr}\")\n",
        "\n",
        "    parents = [\"\" for _ in range(mattingPoolSize)]\n",
        "\n",
        "    for p in range(mattingPoolSize):\n",
        "        fittestIndex = numpy.where(fitness_arr == numpy.max(fitness_arr))\n",
        "        fittestIndex = fittestIndex[0][0]\n",
        "        parents[p] = population[fittestIndex]\n",
        "        fitness_arr[fittestIndex] = -1\n",
        "\n",
        "    print_bin_array(\"Parents\",parents)\n",
        "\n",
        "    offspring = [[\"\" for _ in range(genes)] for _ in range(offspringSize)]\n",
        "    for k in range(offspringSize):\n",
        "        probability = numpy.random.uniform(0,1)\n",
        "\n",
        "        if (probability > crossover_probability):\n",
        "            print(f'\\t😒 Na possição {k}, não houve crossover! Taxa de infertilidade: {probability}')\n",
        "            offspring[k] = parents[k%mattingPoolSize]\n",
        "            continue\n",
        "\n",
        "        parent_one_index = k%mattingPoolSize\n",
        "        parent_two_index = (k+1)%mattingPoolSize\n",
        "\n",
        "        offspring[k][0:crossover_point] = parents[parent_one_index][0:crossover_point]\n",
        "        offspring[k][crossover_point:] = parents[parent_two_index][crossover_point:]\n",
        "        offspring[k] = \"\".join(offspring[k])\n",
        "\n",
        "    print_bin_array(\"Offspring after crossover\", offspring)\n",
        "\n",
        "    for index in range(offspringSize):\n",
        "        probability = numpy.random.uniform(0,1)\n",
        "\n",
        "        if (probability > mutation_probability):\n",
        "            print(f'\\t🫣 Na possição {index}, não houve mutação! Taxa de herança: {probability}')\n",
        "            continue\n",
        "\n",
        "        random_gene = numpy.random.randint(0,genes)\n",
        "\n",
        "        before =  offspring[index]\n",
        "        array_of_genes = [_ for _ in offspring[index]]\n",
        "        array_of_genes[random_gene] = '0' if array_of_genes[random_gene] == '1' else '1'\n",
        "        offspring[index] = \"\".join(array_of_genes)\n",
        "        print(f'\\t☢️ Mutation([{index}][{random_gene}]): {before} -> {offspring[index]}')\n",
        "\n",
        "    print_bin_array(\"Offspring after mutation\", offspring)\n",
        "\n",
        "    population[0:mattingPoolSize] = parents\n",
        "    population[mattingPoolSize:] = offspring\n",
        "    print(f\"----------------------------------------------\")"
      ],
      "metadata": {
        "id": "kLH1Lm9bv386",
        "colab": {
          "base_uri": "https://localhost:8080/"
        },
        "outputId": "4a83a85c-74b2-40e6-9018-be5f8e14b444"
      },
      "execution_count": 83,
      "outputs": [
        {
          "output_type": "stream",
          "name": "stdout",
          "text": [
            "🧬 Generation: 0\n",
            "Population: [-14, -14, -14, -14]#['11110', '11110', '11110', '11110']\n",
            "Fitness: [242, 242, 242, 242]\n",
            "Parents: [-14]#['11110']\n",
            "\t😒 Na possição 1, não houve crossover! Taxa de infertilidade: 0.8122370503980251\n",
            "Offspring after crossover: [-14, -14, -14]#['11110', '11110', '11110']\n",
            "\t🫣 Na possição 0, não houve mutação! Taxa de herança: 0.6623345453774703\n",
            "\t🫣 Na possição 1, não houve mutação! Taxa de herança: 0.3040281912016166\n",
            "\t🫣 Na possição 2, não houve mutação! Taxa de herança: 0.82716349094198\n",
            "Offspring after mutation: [-14, -14, -14]#['11110', '11110', '11110']\n",
            "----------------------------------------------\n",
            "🧬 Generation: 1\n",
            "Population: [-14, -14, -14, -14]#['11110', '11110', '11110', '11110']\n",
            "Fitness: [242, 242, 242, 242]\n",
            "Parents: [-14]#['11110']\n",
            "\t😒 Na possição 0, não houve crossover! Taxa de infertilidade: 0.8620967887059215\n",
            "Offspring after crossover: [-14, -14, -14]#['11110', '11110', '11110']\n",
            "\t🫣 Na possição 0, não houve mutação! Taxa de herança: 0.7729453603893803\n",
            "\t🫣 Na possição 1, não houve mutação! Taxa de herança: 0.47762422186814657\n",
            "\t🫣 Na possição 2, não houve mutação! Taxa de herança: 0.47166146943408627\n",
            "Offspring after mutation: [-14, -14, -14]#['11110', '11110', '11110']\n",
            "----------------------------------------------\n",
            "🧬 Generation: 2\n",
            "Population: [-14, -14, -14, -14]#['11110', '11110', '11110', '11110']\n",
            "Fitness: [242, 242, 242, 242]\n",
            "Parents: [-14]#['11110']\n",
            "\t😒 Na possição 0, não houve crossover! Taxa de infertilidade: 0.7242652288293225\n",
            "Offspring after crossover: [-14, -14, -14]#['11110', '11110', '11110']\n",
            "\t🫣 Na possição 0, não houve mutação! Taxa de herança: 0.43008656950412827\n",
            "\t🫣 Na possição 1, não houve mutação! Taxa de herança: 0.34556952442120603\n",
            "\t☢️ Mutation([2][1]): 11110 -> 10110\n",
            "Offspring after mutation: [-14, -14, -6]#['11110', '11110', '10110']\n",
            "----------------------------------------------\n",
            "🧬 Generation: 3\n",
            "Population: [-14, -14, -14, -6]#['11110', '11110', '11110', '10110']\n",
            "Fitness: [242, 242, 242, 58]\n",
            "Parents: [-14]#['11110']\n",
            "\t😒 Na possição 0, não houve crossover! Taxa de infertilidade: 0.9471141781602158\n",
            "\t😒 Na possição 1, não houve crossover! Taxa de infertilidade: 0.7876745671258536\n",
            "\t😒 Na possição 2, não houve crossover! Taxa de infertilidade: 0.8673798373964926\n",
            "Offspring after crossover: [-14, -14, -14]#['11110', '11110', '11110']\n",
            "\t🫣 Na possição 0, não houve mutação! Taxa de herança: 0.24803539949702358\n",
            "\t🫣 Na possição 1, não houve mutação! Taxa de herança: 0.6410132757798961\n",
            "\t🫣 Na possição 2, não houve mutação! Taxa de herança: 0.32904109611206867\n",
            "Offspring after mutation: [-14, -14, -14]#['11110', '11110', '11110']\n",
            "----------------------------------------------\n",
            "🧬 Generation: 4\n",
            "Population: [-14, -14, -14, -14]#['11110', '11110', '11110', '11110']\n",
            "Fitness: [242, 242, 242, 242]\n",
            "Parents: [-14]#['11110']\n",
            "\t😒 Na possição 1, não houve crossover! Taxa de infertilidade: 0.7954525308009551\n",
            "Offspring after crossover: [-14, -14, -14]#['11110', '11110', '11110']\n",
            "\t🫣 Na possição 0, não houve mutação! Taxa de herança: 0.6551330071787926\n",
            "\t🫣 Na possição 1, não houve mutação! Taxa de herança: 0.16225465765297764\n",
            "\t🫣 Na possição 2, não houve mutação! Taxa de herança: 0.2266592662970629\n",
            "Offspring after mutation: [-14, -14, -14]#['11110', '11110', '11110']\n",
            "----------------------------------------------\n",
            "🧬 Generation: 5\n",
            "Population: [-14, -14, -14, -14]#['11110', '11110', '11110', '11110']\n",
            "Fitness: [242, 242, 242, 242]\n",
            "Parents: [-14]#['11110']\n",
            "\t😒 Na possição 1, não houve crossover! Taxa de infertilidade: 0.943897545652467\n",
            "\t😒 Na possição 2, não houve crossover! Taxa de infertilidade: 0.7643225058877393\n",
            "Offspring after crossover: [-14, -14, -14]#['11110', '11110', '11110']\n",
            "\t🫣 Na possição 0, não houve mutação! Taxa de herança: 0.7902979377171316\n",
            "\t🫣 Na possição 1, não houve mutação! Taxa de herança: 0.48206446876015563\n",
            "\t🫣 Na possição 2, não houve mutação! Taxa de herança: 0.4948609477401036\n",
            "Offspring after mutation: [-14, -14, -14]#['11110', '11110', '11110']\n",
            "----------------------------------------------\n",
            "🧬 Generation: 6\n",
            "Population: [-14, -14, -14, -14]#['11110', '11110', '11110', '11110']\n",
            "Fitness: [242, 242, 242, 242]\n",
            "Parents: [-14]#['11110']\n",
            "Offspring after crossover: [-14, -14, -14]#['11110', '11110', '11110']\n",
            "\t🫣 Na possição 0, não houve mutação! Taxa de herança: 0.35764239415965704\n",
            "\t🫣 Na possição 1, não houve mutação! Taxa de herança: 0.834823170925697\n",
            "\t🫣 Na possição 2, não houve mutação! Taxa de herança: 0.5524432662814078\n",
            "Offspring after mutation: [-14, -14, -14]#['11110', '11110', '11110']\n",
            "----------------------------------------------\n",
            "🧬 Generation: 7\n",
            "Population: [-14, -14, -14, -14]#['11110', '11110', '11110', '11110']\n",
            "Fitness: [242, 242, 242, 242]\n",
            "Parents: [-14]#['11110']\n",
            "Offspring after crossover: [-14, -14, -14]#['11110', '11110', '11110']\n",
            "\t🫣 Na possição 0, não houve mutação! Taxa de herança: 0.16241467539848742\n",
            "\t☢️ Mutation([1][1]): 11110 -> 10110\n",
            "\t☢️ Mutation([2][1]): 11110 -> 10110\n",
            "Offspring after mutation: [-14, -6, -6]#['11110', '10110', '10110']\n",
            "----------------------------------------------\n",
            "🧬 Generation: 8\n",
            "Population: [-14, -14, -6, -6]#['11110', '11110', '10110', '10110']\n",
            "Fitness: [242, 242, 58, 58]\n",
            "Parents: [-14]#['11110']\n",
            "\t😒 Na possição 2, não houve crossover! Taxa de infertilidade: 0.8978940114728806\n",
            "Offspring after crossover: [-14, -14, -14]#['11110', '11110', '11110']\n",
            "\t🫣 Na possição 0, não houve mutação! Taxa de herança: 0.7753460874255388\n",
            "\t🫣 Na possição 1, não houve mutação! Taxa de herança: 0.45097943087610737\n",
            "\t🫣 Na possição 2, não houve mutação! Taxa de herança: 0.41501563975839095\n",
            "Offspring after mutation: [-14, -14, -14]#['11110', '11110', '11110']\n",
            "----------------------------------------------\n",
            "🧬 Generation: 9\n",
            "Population: [-14, -14, -14, -14]#['11110', '11110', '11110', '11110']\n",
            "Fitness: [242, 242, 242, 242]\n",
            "Parents: [-14]#['11110']\n",
            "\t😒 Na possição 0, não houve crossover! Taxa de infertilidade: 0.8185044127191521\n",
            "\t😒 Na possição 1, não houve crossover! Taxa de infertilidade: 0.9447235784165652\n",
            "\t😒 Na possição 2, não houve crossover! Taxa de infertilidade: 0.9077981363732871\n",
            "Offspring after crossover: [-14, -14, -14]#['11110', '11110', '11110']\n",
            "\t🫣 Na possição 0, não houve mutação! Taxa de herança: 0.5280322046093626\n",
            "\t🫣 Na possição 1, não houve mutação! Taxa de herança: 0.39311125602433084\n",
            "\t🫣 Na possição 2, não houve mutação! Taxa de herança: 0.1058481806480539\n",
            "Offspring after mutation: [-14, -14, -14]#['11110', '11110', '11110']\n",
            "----------------------------------------------\n",
            "🧬 Generation: 10\n",
            "Population: [-14, -14, -14, -14]#['11110', '11110', '11110', '11110']\n",
            "Fitness: [242, 242, 242, 242]\n",
            "Parents: [-14]#['11110']\n",
            "Offspring after crossover: [-14, -14, -14]#['11110', '11110', '11110']\n",
            "\t🫣 Na possição 0, não houve mutação! Taxa de herança: 0.24798167801738757\n",
            "\t🫣 Na possição 1, não houve mutação! Taxa de herança: 0.10371998059973986\n",
            "\t🫣 Na possição 2, não houve mutação! Taxa de herança: 0.6311958349882666\n",
            "Offspring after mutation: [-14, -14, -14]#['11110', '11110', '11110']\n",
            "----------------------------------------------\n",
            "🧬 Generation: 11\n",
            "Population: [-14, -14, -14, -14]#['11110', '11110', '11110', '11110']\n",
            "Fitness: [242, 242, 242, 242]\n",
            "Parents: [-14]#['11110']\n",
            "Offspring after crossover: [-14, -14, -14]#['11110', '11110', '11110']\n",
            "\t🫣 Na possição 0, não houve mutação! Taxa de herança: 0.9376717979041705\n",
            "\t🫣 Na possição 1, não houve mutação! Taxa de herança: 0.8184822020512443\n",
            "\t🫣 Na possição 2, não houve mutação! Taxa de herança: 0.3738549023562784\n",
            "Offspring after mutation: [-14, -14, -14]#['11110', '11110', '11110']\n",
            "----------------------------------------------\n",
            "🧬 Generation: 12\n",
            "Population: [-14, -14, -14, -14]#['11110', '11110', '11110', '11110']\n",
            "Fitness: [242, 242, 242, 242]\n",
            "Parents: [-14]#['11110']\n",
            "Offspring after crossover: [-14, -14, -14]#['11110', '11110', '11110']\n",
            "\t🫣 Na possição 0, não houve mutação! Taxa de herança: 0.8747470769513246\n",
            "\t🫣 Na possição 1, não houve mutação! Taxa de herança: 0.932249571970752\n",
            "\t🫣 Na possição 2, não houve mutação! Taxa de herança: 0.5165698455260247\n",
            "Offspring after mutation: [-14, -14, -14]#['11110', '11110', '11110']\n",
            "----------------------------------------------\n",
            "🧬 Generation: 13\n",
            "Population: [-14, -14, -14, -14]#['11110', '11110', '11110', '11110']\n",
            "Fitness: [242, 242, 242, 242]\n",
            "Parents: [-14]#['11110']\n",
            "\t😒 Na possição 1, não houve crossover! Taxa de infertilidade: 0.8261793764687263\n",
            "Offspring after crossover: [-14, -14, -14]#['11110', '11110', '11110']\n",
            "\t🫣 Na possição 0, não houve mutação! Taxa de herança: 0.2785375381477664\n",
            "\t🫣 Na possição 1, não houve mutação! Taxa de herança: 0.30161898383291796\n",
            "\t🫣 Na possição 2, não houve mutação! Taxa de herança: 0.3976784982278576\n",
            "Offspring after mutation: [-14, -14, -14]#['11110', '11110', '11110']\n",
            "----------------------------------------------\n",
            "🧬 Generation: 14\n",
            "Population: [-14, -14, -14, -14]#['11110', '11110', '11110', '11110']\n",
            "Fitness: [242, 242, 242, 242]\n",
            "Parents: [-14]#['11110']\n",
            "\t😒 Na possição 0, não houve crossover! Taxa de infertilidade: 0.8131718688501165\n",
            "Offspring after crossover: [-14, -14, -14]#['11110', '11110', '11110']\n",
            "\t🫣 Na possição 0, não houve mutação! Taxa de herança: 0.40502586590778367\n",
            "\t🫣 Na possição 1, não houve mutação! Taxa de herança: 0.2739989823228579\n",
            "\t🫣 Na possição 2, não houve mutação! Taxa de herança: 0.8015421206167119\n",
            "Offspring after mutation: [-14, -14, -14]#['11110', '11110', '11110']\n",
            "----------------------------------------------\n",
            "🧬 Generation: 15\n",
            "Population: [-14, -14, -14, -14]#['11110', '11110', '11110', '11110']\n",
            "Fitness: [242, 242, 242, 242]\n",
            "Parents: [-14]#['11110']\n",
            "Offspring after crossover: [-14, -14, -14]#['11110', '11110', '11110']\n",
            "\t🫣 Na possição 0, não houve mutação! Taxa de herança: 0.7326106994068232\n",
            "\t🫣 Na possição 1, não houve mutação! Taxa de herança: 0.48503967613174803\n",
            "\t🫣 Na possição 2, não houve mutação! Taxa de herança: 0.6583929068314094\n",
            "Offspring after mutation: [-14, -14, -14]#['11110', '11110', '11110']\n",
            "----------------------------------------------\n",
            "🧬 Generation: 16\n",
            "Population: [-14, -14, -14, -14]#['11110', '11110', '11110', '11110']\n",
            "Fitness: [242, 242, 242, 242]\n",
            "Parents: [-14]#['11110']\n",
            "Offspring after crossover: [-14, -14, -14]#['11110', '11110', '11110']\n",
            "\t🫣 Na possição 0, não houve mutação! Taxa de herança: 0.33354443281576096\n",
            "\t🫣 Na possição 1, não houve mutação! Taxa de herança: 0.9032759263369169\n",
            "\t☢️ Mutation([2][1]): 11110 -> 10110\n",
            "Offspring after mutation: [-14, -14, -6]#['11110', '11110', '10110']\n",
            "----------------------------------------------\n",
            "🧬 Generation: 17\n",
            "Population: [-14, -14, -14, -6]#['11110', '11110', '11110', '10110']\n",
            "Fitness: [242, 242, 242, 58]\n",
            "Parents: [-14]#['11110']\n",
            "Offspring after crossover: [-14, -14, -14]#['11110', '11110', '11110']\n",
            "\t🫣 Na possição 0, não houve mutação! Taxa de herança: 0.43730341906286907\n",
            "\t🫣 Na possição 1, não houve mutação! Taxa de herança: 0.34051317811942927\n",
            "\t🫣 Na possição 2, não houve mutação! Taxa de herança: 0.5499846872755332\n",
            "Offspring after mutation: [-14, -14, -14]#['11110', '11110', '11110']\n",
            "----------------------------------------------\n",
            "🧬 Generation: 18\n",
            "Population: [-14, -14, -14, -14]#['11110', '11110', '11110', '11110']\n",
            "Fitness: [242, 242, 242, 242]\n",
            "Parents: [-14]#['11110']\n",
            "Offspring after crossover: [-14, -14, -14]#['11110', '11110', '11110']\n",
            "\t🫣 Na possição 0, não houve mutação! Taxa de herança: 0.43231417709133213\n",
            "\t🫣 Na possição 1, não houve mutação! Taxa de herança: 0.7880583937316404\n",
            "\t🫣 Na possição 2, não houve mutação! Taxa de herança: 0.48324167815830954\n",
            "Offspring after mutation: [-14, -14, -14]#['11110', '11110', '11110']\n",
            "----------------------------------------------\n",
            "🧬 Generation: 19\n",
            "Population: [-14, -14, -14, -14]#['11110', '11110', '11110', '11110']\n",
            "Fitness: [242, 242, 242, 242]\n",
            "Parents: [-14]#['11110']\n",
            "\t😒 Na possição 1, não houve crossover! Taxa de infertilidade: 0.9873017596069295\n",
            "Offspring after crossover: [-14, -14, -14]#['11110', '11110', '11110']\n",
            "\t🫣 Na possição 0, não houve mutação! Taxa de herança: 0.8566448809614379\n",
            "\t🫣 Na possição 1, não houve mutação! Taxa de herança: 0.5199050503808051\n",
            "\t🫣 Na possição 2, não houve mutação! Taxa de herança: 0.6529932804852253\n",
            "Offspring after mutation: [-14, -14, -14]#['11110', '11110', '11110']\n",
            "----------------------------------------------\n"
          ]
        }
      ]
    }
  ]
}
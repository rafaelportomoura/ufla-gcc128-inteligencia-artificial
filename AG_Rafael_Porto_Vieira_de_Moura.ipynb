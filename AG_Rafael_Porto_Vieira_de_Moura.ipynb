{
  "nbformat": 4,
  "nbformat_minor": 0,
  "metadata": {
    "colab": {
      "provenance": [],
      "authorship_tag": "ABX9TyPuyL0UL1/+qCU5tsiBcKuA",
      "include_colab_link": true
    },
    "kernelspec": {
      "name": "python3",
      "display_name": "Python 3"
    },
    "language_info": {
      "name": "python"
    }
  },
  "cells": [
    {
      "cell_type": "markdown",
      "metadata": {
        "id": "view-in-github",
        "colab_type": "text"
      },
      "source": [
        "<a href=\"https://colab.research.google.com/github/rafaelportomoura/ufla-gcc128-inteligencia-artificial/blob/main/AG_Rafael_Porto_Vieira_de_Moura.ipynb\" target=\"_parent\"><img src=\"https://colab.research.google.com/assets/colab-badge.svg\" alt=\"Open In Colab\"/></a>"
      ]
    },
    {
      "cell_type": "code",
      "source": [],
      "metadata": {
        "id": "BGJQtkN3wCj8"
      },
      "execution_count": null,
      "outputs": []
    },
    {
      "cell_type": "markdown",
      "source": [
        "- https://ashki23.github.io/markdown-latex.html\n",
        "- https://algodaily.com/lessons/introduction-to-genetic-algorithms-in-python#example"
      ],
      "metadata": {
        "id": "oDpL3HOAjTQ5"
      }
    },
    {
      "cell_type": "markdown",
      "source": [
        "Exercício de AG ( 10 pontos)\n",
        "\n",
        "O trabalho pode ser feito em dupla (Nome do arquivo : AG_nomeAluno1_NomeAluno2.zip)\n",
        "Encontrar de x para o qual a função $f(x) = x^2 - 3x + 4$, encontre o valor máximo .\n",
        "\n",
        "- Assumir que $x [-10, +10]$\n",
        "- Codificar $X$ como vetor binário\n",
        "- Criar uma população inicial com 4  indivíduos  (pode usar mais para testar até 30)\n",
        "- Aplicar Mutação com taxa de 1%\n",
        "- Aplicar Crossover com taxa de 70%\n",
        "- Usar seleção por torneio.\n",
        "- Usar 5  gerações. ( pode usar mais para testar até 20)\n",
        "\n",
        "Obs. Na implmentação utilizar os parametros ( num. de  indivíduos, num de geração, taxas de crossover e mutação)  como variáveis para ajdar no teste pra avaliar a qualidade dos resultados."
      ],
      "metadata": {
        "id": "JRRGqXN8i-hy"
      }
    },
    {
      "cell_type": "code",
      "execution_count": 5,
      "metadata": {
        "id": "jD41Bvu2i2tU"
      },
      "outputs": [],
      "source": [
        "import numpy\n",
        "\n",
        "# Parameter initialization\n",
        "genes = 5\n",
        "chromosomes = 4 # populacao inicial\n",
        "mattingPoolSize = 6\n",
        "offspringSize = chromosomes - mattingPoolSize\n",
        "lb = -10\n",
        "ub = 10\n",
        "generations = 20\n",
        "function = \"x*x - 3 * x + 4\"\n",
        "\n",
        "def intToBin(decimal):\n",
        "    raw_bin = bin(decimal)\n",
        "    signal = raw_bin[0]\n",
        "    clean_bin = raw_bin.replace('-0','0').replace('0b','')\n",
        "\n",
        "    if (signal == '-'):\n",
        "        return f\"1{clean_bin.zfill(genes-1)}\"\n",
        "    else:\n",
        "        return clean_bin.zfill(genes)\n",
        "\n",
        "\n",
        "def binToInt(clean_bin):\n",
        "    [sinal, *raw_bin] = clean_bin\n",
        "    integer = int(''.join(raw_bin),2)\n",
        "    return -1 * integer if int(sinal,10) else integer"
      ]
    },
    {
      "cell_type": "markdown",
      "source": [
        "Cria a população"
      ],
      "metadata": {
        "id": "N8WXoI7kvfY_"
      }
    },
    {
      "cell_type": "code",
      "source": [
        "import random\n",
        "\n",
        "population = [intToBin(random.randint(lb,ub)) for _ in range(chromosomes)]\n",
        "print(population)"
      ],
      "metadata": {
        "colab": {
          "base_uri": "https://localhost:8080/"
        },
        "id": "WNonIZhalgtF",
        "outputId": "ef382c9e-baac-4497-e7f8-bbc6694810f7"
      },
      "execution_count": 19,
      "outputs": [
        {
          "output_type": "stream",
          "name": "stdout",
          "text": [
            "['11010', '00110', '01000', '10101']\n"
          ]
        }
      ]
    },
    {
      "cell_type": "code",
      "source": [
        "def fitness(x):\n",
        "    if type(x) == str:\n",
        "        x = binToInt(x)\n",
        "\n",
        "    return eval(function)"
      ],
      "metadata": {
        "id": "BewK4I76Dl2B"
      },
      "execution_count": 14,
      "outputs": []
    },
    {
      "cell_type": "markdown",
      "source": [
        "Gerações\n"
      ],
      "metadata": {
        "id": "Ge3lRIO_vrRc"
      }
    },
    {
      "cell_type": "code",
      "source": [
        "for generation in range(generations):\n",
        "    print(f\"Generation: {generation}\")\n",
        "    fitness_arr = [fitness(x) for x in population]\n",
        "    print(f\"Fitness: {fitness_arr}\")"
      ],
      "metadata": {
        "id": "kLH1Lm9bv386",
        "colab": {
          "base_uri": "https://localhost:8080/"
        },
        "outputId": "ed470dc7-1234-4e63-f68d-ccf26862cf4b"
      },
      "execution_count": 17,
      "outputs": [
        {
          "output_type": "stream",
          "name": "stdout",
          "text": [
            "Generation: 0\n",
            "Fitness: [22, 32, 32, 134]\n",
            "Generation: 1\n",
            "Fitness: [22, 32, 32, 134]\n",
            "Generation: 2\n",
            "Fitness: [22, 32, 32, 134]\n",
            "Generation: 3\n",
            "Fitness: [22, 32, 32, 134]\n",
            "Generation: 4\n",
            "Fitness: [22, 32, 32, 134]\n",
            "Generation: 5\n",
            "Fitness: [22, 32, 32, 134]\n",
            "Generation: 6\n",
            "Fitness: [22, 32, 32, 134]\n",
            "Generation: 7\n",
            "Fitness: [22, 32, 32, 134]\n",
            "Generation: 8\n",
            "Fitness: [22, 32, 32, 134]\n",
            "Generation: 9\n",
            "Fitness: [22, 32, 32, 134]\n",
            "Generation: 10\n",
            "Fitness: [22, 32, 32, 134]\n",
            "Generation: 11\n",
            "Fitness: [22, 32, 32, 134]\n",
            "Generation: 12\n",
            "Fitness: [22, 32, 32, 134]\n",
            "Generation: 13\n",
            "Fitness: [22, 32, 32, 134]\n",
            "Generation: 14\n",
            "Fitness: [22, 32, 32, 134]\n",
            "Generation: 15\n",
            "Fitness: [22, 32, 32, 134]\n",
            "Generation: 16\n",
            "Fitness: [22, 32, 32, 134]\n",
            "Generation: 17\n",
            "Fitness: [22, 32, 32, 134]\n",
            "Generation: 18\n",
            "Fitness: [22, 32, 32, 134]\n",
            "Generation: 19\n",
            "Fitness: [22, 32, 32, 134]\n"
          ]
        }
      ]
    }
  ]
}